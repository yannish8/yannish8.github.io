{
 "cells": [
  {
   "cell_type": "code",
   "execution_count": 1,
   "metadata": {
    "ExecuteTime": {
     "end_time": "2020-06-13T21:00:50.455779Z",
     "start_time": "2020-06-13T21:00:50.192646Z"
    }
   },
   "outputs": [],
   "source": [
    "import pandas as pd\n",
    "import numpy as np\n",
    "\n",
    "pd.options.mode.chained_assignment = None"
   ]
  },
  {
   "cell_type": "markdown",
   "metadata": {
    "pycharm": {
     "name": "#%% md\n"
    }
   },
   "source": [
    "The data was downloaded from [Kaggle](https://www.kaggle.com/nathanlauga/nba-games?select=games_details.csv)"
   ]
  },
  {
   "cell_type": "code",
   "execution_count": 2,
   "metadata": {
    "ExecuteTime": {
     "end_time": "2020-06-13T21:00:51.395179Z",
     "start_time": "2020-06-13T21:00:51.271122Z"
    }
   },
   "outputs": [],
   "source": [
    "player_stats = pd.read_csv(\"~/Downloads/Seasons_Stats.csv\")"
   ]
  },
  {
   "cell_type": "markdown",
   "metadata": {
    "pycharm": {
     "name": "#%% md\n"
    }
   },
   "source": [
    "Since we are only interested in 3-point data for this analysis, we select only those columns from the dataframe."
   ]
  },
  {
   "cell_type": "code",
   "execution_count": 3,
   "metadata": {
    "ExecuteTime": {
     "end_time": "2020-06-13T21:00:52.700044Z",
     "start_time": "2020-06-13T21:00:52.688101Z"
    }
   },
   "outputs": [
    {
     "name": "stdout",
     "output_type": "stream",
     "text": [
      "            Player    Year  3P%  3PA\n",
      "0  Curly Armstrong  1950.0  NaN  NaN\n",
      "1     Cliff Barker  1950.0  NaN  NaN\n",
      "2    Leo Barnhorst  1950.0  NaN  NaN\n",
      "3       Ed Bartels  1950.0  NaN  NaN\n",
      "4       Ed Bartels  1950.0  NaN  NaN\n"
     ]
    }
   ],
   "source": [
    "three_point_data = player_stats[[\"Player\", \"Year\", \"3P%\", \"3PA\"]]\n",
    "print(three_point_data.head().to_string())"
   ]
  },
  {
   "cell_type": "markdown",
   "metadata": {
    "pycharm": {
     "name": "#%% md\n"
    }
   },
   "source": [
    "We then filter out players where 3-point data is not available (i.e. **3P%** column is set to `NaN`). This is possibly because there was no 3-point line at the time or simply because the player did not attempt any 3-pointers."
   ]
  },
  {
   "cell_type": "code",
   "execution_count": 4,
   "metadata": {
    "ExecuteTime": {
     "end_time": "2020-06-13T21:00:53.655941Z",
     "start_time": "2020-06-13T21:00:53.633232Z"
    }
   },
   "outputs": [
    {
     "name": "stdout",
     "output_type": "stream",
     "text": [
      "          Player    Year    3P%   3PA\n",
      "8035  A.C. Green  1986.0  0.167   6.0\n",
      "8420  A.C. Green  1987.0  0.000   5.0\n",
      "8807  A.C. Green  1988.0  0.000   2.0\n",
      "9242  A.C. Green  1989.0  0.235  17.0\n",
      "9688  A.C. Green  1990.0  0.283  46.0\n"
     ]
    }
   ],
   "source": [
    "# Filter out players that don't have any 3PT data available (no 3PT line or did not attempt 3-pointers)\n",
    "three_point_data = three_point_data.dropna(subset=[\"3P%\"]).sort_values(\n",
    "    [\"Player\", \"Year\", \"3P%\"]\n",
    ")\n",
    "\n",
    "print(three_point_data.head().to_string())"
   ]
  },
  {
   "cell_type": "markdown",
   "metadata": {
    "pycharm": {
     "name": "#%% md\n"
    }
   },
   "source": [
    "We then group the 3-point data by player by season since we want to understand how a given player's 3-point percentage changed from one season to the next."
   ]
  },
  {
   "cell_type": "code",
   "execution_count": 5,
   "metadata": {
    "ExecuteTime": {
     "end_time": "2020-06-13T21:00:54.441573Z",
     "start_time": "2020-06-13T21:00:54.420387Z"
    }
   },
   "outputs": [
    {
     "name": "stdout",
     "output_type": "stream",
     "text": [
      "                   total_atp_3  avg_3_pct\n",
      "Player     Year                          \n",
      "A.C. Green 1986.0          6.0      0.167\n",
      "           1987.0          5.0      0.000\n",
      "           1988.0          2.0      0.000\n",
      "           1989.0         17.0      0.235\n",
      "           1990.0         46.0      0.283\n"
     ]
    }
   ],
   "source": [
    "three_point_data = (\n",
    "    three_point_data.groupby([\"Player\", \"Year\"])\n",
    "    .agg({\"3PA\": \"sum\", \"3P%\": \"mean\"})\n",
    "    .rename(columns={\"3PA\": \"total_atp_3\", \"3P%\": \"avg_3_pct\"})\n",
    ")\n",
    "\n",
    "print(three_point_data.head().to_string())"
   ]
  },
  {
   "cell_type": "markdown",
   "metadata": {
    "pycharm": {
     "name": "#%% md\n"
    }
   },
   "source": [
    "We set a minimum criteria of 3-pointers attempted to make sure all possible outliers are excluded."
   ]
  },
  {
   "cell_type": "code",
   "execution_count": 6,
   "metadata": {
    "ExecuteTime": {
     "end_time": "2020-06-13T21:00:55.218946Z",
     "start_time": "2020-06-13T21:00:55.208315Z"
    }
   },
   "outputs": [
    {
     "name": "stdout",
     "output_type": "stream",
     "text": [
      "                     total_atp_3  avg_3_pct\n",
      "Player       Year                          \n",
      "Aaron Brooks 2009.0        309.0   0.366000\n",
      "             2010.0        525.0   0.398000\n",
      "             2011.0        472.0   0.303000\n",
      "             2013.0        268.0   0.345667\n",
      "             2014.0        496.0   0.386000\n"
     ]
    }
   ],
   "source": [
    "filtered_three_point_data = three_point_data[three_point_data[\"total_atp_3\"] > 200]\n",
    "\n",
    "print(filtered_three_point_data.head().to_string())"
   ]
  },
  {
   "cell_type": "markdown",
   "metadata": {
    "pycharm": {
     "name": "#%% md\n"
    }
   },
   "source": [
    "We then comparer each player's current 3-point percentage to the same percentage in the previous year.\n",
    "NOTE: This can likely be improved upon from an efficiency and readability standpoint."
   ]
  },
  {
   "cell_type": "code",
   "execution_count": 7,
   "metadata": {
    "ExecuteTime": {
     "end_time": "2020-06-13T21:00:55.944481Z",
     "start_time": "2020-06-13T21:00:55.927990Z"
    }
   },
   "outputs": [
    {
     "name": "stdout",
     "output_type": "stream",
     "text": [
      "         Player    Year  total_atp_3  avg_3_pct    diff\n",
      "0  Aaron Brooks  2009.0        309.0   0.366000     NaN\n",
      "1  Aaron Brooks  2010.0        525.0   0.398000  3.2000\n",
      "2  Aaron Brooks  2011.0        472.0   0.303000 -9.5000\n",
      "3  Aaron Brooks  2013.0        268.0   0.345667  4.2667\n",
      "4  Aaron Brooks  2014.0        496.0   0.386000  4.0333\n"
     ]
    }
   ],
   "source": [
    "filtered_three_point_data[\"diff\"] = ((filtered_three_point_data[\"avg_3_pct\"]\n",
    "    - filtered_three_point_data[\"avg_3_pct\"].shift(1)) * 100)\n",
    "\n",
    "filtered_three_point_data[\"diff\"] = filtered_three_point_data[\"diff\"].round(4)\n",
    "\n",
    "filtered_three_point_data = filtered_three_point_data.reset_index()\n",
    "\n",
    "print(filtered_three_point_data.head().to_string())"
   ]
  },
  {
   "cell_type": "markdown",
   "metadata": {
    "pycharm": {
     "name": "#%% md\n"
    }
   },
   "source": [
    "Since the data is sorted by player and year, there are instances where we are comparing 3-point percentages for 2 different players - in those cases, I set the **diff** column value to `None`."
   ]
  },
  {
   "cell_type": "code",
   "execution_count": 8,
   "metadata": {
    "ExecuteTime": {
     "end_time": "2020-06-13T21:00:56.616240Z",
     "start_time": "2020-06-13T21:00:56.603112Z"
    }
   },
   "outputs": [
    {
     "name": "stdout",
     "output_type": "stream",
     "text": [
      "         Player    Year  total_atp_3  avg_3_pct    diff\n",
      "0  Aaron Brooks  2009.0        309.0   0.366000     NaN\n",
      "1  Aaron Brooks  2010.0        525.0   0.398000  3.2000\n",
      "2  Aaron Brooks  2011.0        472.0   0.303000 -9.5000\n",
      "3  Aaron Brooks  2013.0        268.0   0.345667  4.2667\n",
      "4  Aaron Brooks  2014.0        496.0   0.386000  4.0333\n"
     ]
    }
   ],
   "source": [
    "mask = filtered_three_point_data[\"Player\"] != filtered_three_point_data[\n",
    "    \"Player\"\n",
    "].shift(1)\n",
    "\n",
    "filtered_three_point_data[\"diff\"][mask] = np.nan\n",
    "\n",
    "print(filtered_three_point_data.head().to_string())"
   ]
  },
  {
   "cell_type": "markdown",
   "metadata": {},
   "source": [
    "Finally some results! First, I was curious to know who had the biggest drop from the 3-point line from one year to the next. Interestingly, Toni Kukoc had a big drop from 1999 to 2000 but one of the biggest jumps in history from 2000 to 2001."
   ]
  },
  {
   "cell_type": "code",
   "execution_count": 9,
   "metadata": {
    "ExecuteTime": {
     "end_time": "2020-06-13T21:00:57.298779Z",
     "start_time": "2020-06-13T21:00:57.278031Z"
    },
    "pycharm": {
     "name": "#%%\n"
    }
   },
   "outputs": [
    {
     "name": "stdout",
     "output_type": "stream",
     "text": [
      "               Player    Year  total_atp_3  avg_3_pct     diff\n",
      "2125        Tony Delk  2002.0        428.0   0.310667 -19.9667\n",
      "2121       Toni Kukoc  2000.0        336.0   0.260667 -14.2333\n",
      "2058      Steve Smith  2005.0        210.0   0.337333 -13.4667\n",
      "1848  Reggie Williams  1994.0        230.0   0.278000 -13.1667\n",
      "340     Chris Whitney  2003.0        328.0   0.278333 -12.7667\n"
     ]
    }
   ],
   "source": [
    "min_player_change = (\n",
    "    filtered_three_point_data.groupby([\"Player\", \"Year\", \"total_atp_3\", \"avg_3_pct\"])\n",
    "    .min()\n",
    "    .reset_index()\n",
    "    .sort_values(by=\"diff\", ascending=True)\n",
    ")\n",
    "\n",
    "print(min_player_change.head().to_string())"
   ]
  },
  {
   "cell_type": "markdown",
   "metadata": {},
   "source": [
    "Here are the top 5 players with a the largest one season increase from the 3-point line."
   ]
  },
  {
   "cell_type": "code",
   "execution_count": 10,
   "metadata": {
    "ExecuteTime": {
     "end_time": "2020-06-13T21:00:57.998836Z",
     "start_time": "2020-06-13T21:00:57.975475Z"
    },
    "pycharm": {
     "name": "#%%\n"
    }
   },
   "outputs": [
    {
     "name": "stdout",
     "output_type": "stream",
     "text": [
      "   index            Player    Year  total_atp_3  avg_3_pct  diff\n",
      "0    102  Anthony Tolliver  2014.0        247.0   0.413000  19.3\n",
      "1   2122        Toni Kukoc  2001.0        314.0   0.445667  18.5\n",
      "2   1081       Joe Johnson  2005.0        370.0   0.478000  17.3\n",
      "3   1206      Kevin Durant  2009.0        230.0   0.422000  13.4\n",
      "4   2057       Steve Smith  2002.0        246.0   0.472000  13.3\n"
     ]
    }
   ],
   "source": [
    "max_player_change = filtered_three_point_data.groupby(['Player', 'Year', 'total_atp_3', 'avg_3_pct']) \\\n",
    "                                    .max() \\\n",
    "                                    .reset_index() \\\n",
    "                                    .sort_values(by='diff', ascending=False)\n",
    "\n",
    "max_player_change = max_player_change[(max_player_change['avg_3_pct'] >= 0.35) & (max_player_change['diff'])] \\\n",
    "                                    .reset_index()\n",
    "\n",
    "print(max_player_change.head().to_string())"
   ]
  }
 ],
 "metadata": {
  "kernelspec": {
   "display_name": "Python 3",
   "language": "python",
   "name": "python3"
  },
  "language_info": {
   "codemirror_mode": {
    "name": "ipython",
    "version": 3
   },
   "file_extension": ".py",
   "mimetype": "text/x-python",
   "name": "python",
   "nbconvert_exporter": "python",
   "pygments_lexer": "ipython3",
   "version": "3.7.1"
  },
  "pycharm": {
   "stem_cell": {
    "cell_type": "raw",
    "metadata": {
     "collapsed": false
    },
    "source": []
   }
  },
  "toc": {
   "base_numbering": 1,
   "nav_menu": {},
   "number_sections": true,
   "sideBar": true,
   "skip_h1_title": false,
   "title_cell": "Table of Contents",
   "title_sidebar": "Contents",
   "toc_cell": false,
   "toc_position": {},
   "toc_section_display": true,
   "toc_window_display": true
  }
 },
 "nbformat": 4,
 "nbformat_minor": 2
}
