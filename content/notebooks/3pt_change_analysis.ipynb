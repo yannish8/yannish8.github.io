{
 "cells": [
  {
   "cell_type": "code",
   "execution_count": 1,
   "metadata": {
    "ExecuteTime": {
     "end_time": "2020-08-07T01:48:55.262905Z",
     "start_time": "2020-08-07T01:48:54.695095Z"
    }
   },
   "outputs": [],
   "source": [
    "import pandas as pd\n",
    "import numpy as np\n",
    "\n",
    "import plotly.graph_objects as go\n",
    "from plotly import subplots\n",
    "\n",
    "pd.options.mode.chained_assignment = None"
   ]
  },
  {
   "cell_type": "markdown",
   "metadata": {
    "pycharm": {
     "name": "#%% md\n"
    }
   },
   "source": [
    "The data was downloaded from [Kaggle](https://www.kaggle.com/nathanlauga/nba-games?select=games_details.csv)"
   ]
  },
  {
   "cell_type": "code",
   "execution_count": 2,
   "metadata": {
    "ExecuteTime": {
     "end_time": "2020-08-07T01:48:55.424504Z",
     "start_time": "2020-08-07T01:48:55.265870Z"
    }
   },
   "outputs": [],
   "source": [
    "player_stats = pd.read_csv(\"~/Downloads/Seasons_Stats.csv\")"
   ]
  },
  {
   "cell_type": "markdown",
   "metadata": {
    "pycharm": {
     "name": "#%% md\n"
    }
   },
   "source": [
    "Since we are only interested in 3-point data for this analysis, we select only those columns from the dataframe."
   ]
  },
  {
   "cell_type": "code",
   "execution_count": 3,
   "metadata": {
    "ExecuteTime": {
     "end_time": "2020-08-07T01:48:55.434211Z",
     "start_time": "2020-08-07T01:48:55.427072Z"
    }
   },
   "outputs": [],
   "source": [
    "three_point_data = player_stats[[\"Player\", \"Year\", \"3P%\", \"3PA\"]]"
   ]
  },
  {
   "cell_type": "markdown",
   "metadata": {
    "pycharm": {
     "name": "#%% md\n"
    }
   },
   "source": [
    "We then filter out players where 3-point data is not available (i.e. **3P%** column is set to `NaN`). This is possibly because there was no 3-point line at the time or simply because the player did not attempt any 3-pointers."
   ]
  },
  {
   "cell_type": "code",
   "execution_count": 4,
   "metadata": {
    "ExecuteTime": {
     "end_time": "2020-08-07T01:48:55.458967Z",
     "start_time": "2020-08-07T01:48:55.440268Z"
    }
   },
   "outputs": [],
   "source": [
    "# Filter out players that don't have any 3PT data available (no 3PT line or did not attempt 3-pointers)\n",
    "three_point_data = three_point_data.dropna(subset=[\"3P%\"]).sort_values(\n",
    "    [\"Player\", \"Year\", \"3P%\"]\n",
    ")"
   ]
  },
  {
   "cell_type": "markdown",
   "metadata": {
    "pycharm": {
     "name": "#%% md\n"
    }
   },
   "source": [
    "We then group the 3-point data by player by season since we want to understand how a given player's 3-point percentage changed from one season to the next."
   ]
  },
  {
   "cell_type": "code",
   "execution_count": 5,
   "metadata": {
    "ExecuteTime": {
     "end_time": "2020-08-07T01:48:55.476890Z",
     "start_time": "2020-08-07T01:48:55.460889Z"
    }
   },
   "outputs": [],
   "source": [
    "three_point_data = (\n",
    "    three_point_data.groupby([\"Player\", \"Year\"])\n",
    "    .agg({\"3PA\": \"sum\", \"3P%\": \"mean\"})\n",
    "    .rename(columns={\"3PA\": \"total_atp_3\", \"3P%\": \"avg_3_pct\"})\n",
    ")"
   ]
  },
  {
   "cell_type": "markdown",
   "metadata": {
    "pycharm": {
     "name": "#%% md\n"
    }
   },
   "source": [
    "We set a minimum criteria of 3-pointers attempted to make sure all possible outliers are excluded."
   ]
  },
  {
   "cell_type": "code",
   "execution_count": 6,
   "metadata": {
    "ExecuteTime": {
     "end_time": "2020-08-07T01:48:55.489493Z",
     "start_time": "2020-08-07T01:48:55.483215Z"
    }
   },
   "outputs": [],
   "source": [
    "filtered_three_point_data = three_point_data[three_point_data[\"total_atp_3\"] > 200]"
   ]
  },
  {
   "cell_type": "markdown",
   "metadata": {
    "pycharm": {
     "name": "#%% md\n"
    }
   },
   "source": [
    "We then comparer each player's current 3-point percentage to the same percentage in the previous year.\n",
    "NOTE: This can likely be improved upon from an efficiency and readability standpoint."
   ]
  },
  {
   "cell_type": "code",
   "execution_count": 7,
   "metadata": {
    "ExecuteTime": {
     "end_time": "2020-08-07T01:48:55.502184Z",
     "start_time": "2020-08-07T01:48:55.493286Z"
    }
   },
   "outputs": [],
   "source": [
    "filtered_three_point_data[\"diff\"] = (\n",
    "    filtered_three_point_data[\"avg_3_pct\"]\n",
    "    - filtered_three_point_data[\"avg_3_pct\"].shift(1)\n",
    ") * 100\n",
    "\n",
    "filtered_three_point_data[\"diff\"] = filtered_three_point_data[\"diff\"].round(4)\n",
    "\n",
    "filtered_three_point_data = filtered_three_point_data.reset_index()"
   ]
  },
  {
   "cell_type": "markdown",
   "metadata": {
    "pycharm": {
     "name": "#%% md\n"
    }
   },
   "source": [
    "Since the data is sorted by player and year, there are instances where we are comparing 3-point percentages for 2 different players - in those cases, I set the **diff** column value to `None`."
   ]
  },
  {
   "cell_type": "code",
   "execution_count": 8,
   "metadata": {
    "ExecuteTime": {
     "end_time": "2020-08-07T01:48:55.514852Z",
     "start_time": "2020-08-07T01:48:55.504833Z"
    }
   },
   "outputs": [],
   "source": [
    "mask = filtered_three_point_data[\"Player\"] != filtered_three_point_data[\"Player\"].shift(\n",
    "    1\n",
    ")\n",
    "\n",
    "filtered_three_point_data[\"diff\"][mask] = np.nan"
   ]
  },
  {
   "cell_type": "markdown",
   "metadata": {},
   "source": [
    "Finally some results! First, I was curious to know who had the biggest drop from the 3-point line from one year to the next. Interestingly, Toni Kukoc had a big drop from 1999 to 2000 but one of the biggest jumps in history from 2000 to 2001."
   ]
  },
  {
   "cell_type": "code",
   "execution_count": 9,
   "metadata": {
    "ExecuteTime": {
     "end_time": "2020-08-07T01:48:55.533247Z",
     "start_time": "2020-08-07T01:48:55.517134Z"
    },
    "pycharm": {
     "name": "#%%\n"
    }
   },
   "outputs": [],
   "source": [
    "min_player_change = (\n",
    "    filtered_three_point_data.groupby([\"Player\", \"Year\", \"total_atp_3\", \"avg_3_pct\"])\n",
    "    .min()\n",
    "    .reset_index()\n",
    "    .sort_values(by=\"diff\", ascending=True)\n",
    ").reset_index()"
   ]
  },
  {
   "cell_type": "markdown",
   "metadata": {},
   "source": [
    "Here are the top 5 players with a the largest one season increase from the 3-point line."
   ]
  },
  {
   "cell_type": "code",
   "execution_count": 10,
   "metadata": {
    "ExecuteTime": {
     "end_time": "2020-08-07T01:48:55.556160Z",
     "start_time": "2020-08-07T01:48:55.536986Z"
    },
    "pycharm": {
     "name": "#%%\n"
    }
   },
   "outputs": [],
   "source": [
    "max_player_change = (\n",
    "    filtered_three_point_data.groupby([\"Player\", \"Year\", \"total_atp_3\", \"avg_3_pct\"])\n",
    "    .max()\n",
    "    .reset_index()\n",
    "    .sort_values(by=\"diff\", ascending=False)\n",
    ")\n",
    "\n",
    "max_player_change = max_player_change[\n",
    "    (max_player_change[\"avg_3_pct\"] >= 0.35) & (max_player_change[\"diff\"])\n",
    "].reset_index()"
   ]
  },
  {
   "cell_type": "markdown",
   "metadata": {},
   "source": [
    "We then visualize the top 9 players in a 3 by 3 chart with the year of their largest increase in brackets in the chart title."
   ]
  },
  {
   "cell_type": "code",
   "execution_count": 11,
   "metadata": {
    "ExecuteTime": {
     "end_time": "2020-08-07T01:48:58.514842Z",
     "start_time": "2020-08-07T01:48:55.558915Z"
    }
   },
   "outputs": [],
   "source": [
    "player_counter = 9\n",
    "names = []\n",
    "\n",
    "for idx, row in max_player_change[:player_counter][[\"Player\", \"Year\"]].iterrows():\n",
    "    names.append(f\"{row['Player']} ({int(row['Year'])})\")\n",
    "\n",
    "names = tuple(names)\n",
    "\n",
    "fig = subplots.make_subplots(\n",
    "    rows=int(player_counter / 3), cols=int(player_counter / 3), subplot_titles=names\n",
    ")\n",
    "\n",
    "row_counter = 1\n",
    "\n",
    "for idx, row in max_player_change.iterrows():\n",
    "\n",
    "    if idx > player_counter - 1:\n",
    "        break\n",
    "\n",
    "    col_counter = (idx % 3) + 1\n",
    "\n",
    "    if idx % 3 == 0 and idx != 0:\n",
    "        row_counter += 1\n",
    "\n",
    "    trace_data = three_point_data[\n",
    "        three_point_data.index.get_level_values(\"Player\") == row[\"Player\"]\n",
    "    ].reset_index()\n",
    "\n",
    "    trace = go.Bar(x=trace_data[\"Year\"].tolist(), y=trace_data[\"avg_3_pct\"].tolist())\n",
    "\n",
    "    fig.append_trace(trace, row_counter, col_counter)\n",
    "\n",
    "fig.update_layout(height=1000, width=1000, showlegend=False)\n",
    "fig.write_image(\"../images/nba_analysis_1.jpeg\")"
   ]
  },
  {
   "cell_type": "code",
   "execution_count": 12,
   "metadata": {
    "ExecuteTime": {
     "end_time": "2020-08-07T01:48:58.763963Z",
     "start_time": "2020-08-07T01:48:58.516839Z"
    }
   },
   "outputs": [],
   "source": [
    "player_counter = 9\n",
    "names = []\n",
    "\n",
    "for idx, row in min_player_change[:player_counter][[\"Player\", \"Year\"]].iterrows():\n",
    "    names.append(f\"{row['Player']} ({int(row['Year'])})\")\n",
    "\n",
    "names = tuple(names)\n",
    "\n",
    "fig = subplots.make_subplots(\n",
    "    rows=int(player_counter / 3), cols=int(player_counter / 3), subplot_titles=names\n",
    ")\n",
    "\n",
    "row_counter = 1\n",
    "\n",
    "for idx, row in min_player_change.iterrows():\n",
    "\n",
    "    if idx > player_counter - 1:\n",
    "        break\n",
    "\n",
    "    col_counter = (idx % 3) + 1\n",
    "\n",
    "    if idx % 3 == 0 and idx != 0:\n",
    "        row_counter += 1\n",
    "\n",
    "    trace_data = three_point_data[\n",
    "        three_point_data.index.get_level_values(\"Player\") == row[\"Player\"]\n",
    "    ].reset_index()\n",
    "\n",
    "    trace = go.Bar(x=trace_data[\"Year\"].tolist(), y=trace_data[\"avg_3_pct\"].tolist())\n",
    "\n",
    "    fig.append_trace(trace, row_counter, col_counter)\n",
    "\n",
    "fig.update_layout(height=1000, width=1000, showlegend=False)\n",
    "fig.write_image(\"../images/nba_analysis_2.jpeg\")"
   ]
  }
 ],
 "metadata": {
  "kernelspec": {
   "display_name": "Python 3",
   "language": "python",
   "name": "python3"
  },
  "language_info": {
   "codemirror_mode": {
    "name": "ipython",
    "version": 3
   },
   "file_extension": ".py",
   "mimetype": "text/x-python",
   "name": "python",
   "nbconvert_exporter": "python",
   "pygments_lexer": "ipython3",
   "version": "3.7.3"
  },
  "pycharm": {
   "stem_cell": {
    "cell_type": "raw",
    "metadata": {
     "collapsed": false
    },
    "source": []
   }
  },
  "toc": {
   "base_numbering": 1,
   "nav_menu": {},
   "number_sections": true,
   "sideBar": true,
   "skip_h1_title": false,
   "title_cell": "Table of Contents",
   "title_sidebar": "Contents",
   "toc_cell": false,
   "toc_position": {},
   "toc_section_display": true,
   "toc_window_display": true
  }
 },
 "nbformat": 4,
 "nbformat_minor": 2
}
