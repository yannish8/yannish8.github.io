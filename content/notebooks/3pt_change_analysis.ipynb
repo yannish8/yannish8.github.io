{
 "cells": [
  {
   "cell_type": "code",
   "execution_count": null,
   "metadata": {
    "ExecuteTime": {
     "end_time": "2020-06-13T20:51:57.592897Z",
     "start_time": "2020-06-13T20:51:57.589094Z"
    }
   },
   "outputs": [],
   "source": [
    "import pandas as pd\n",
    "import numpy as np\n",
    "\n",
    "pd.options.mode.chained_assignment = None"
   ]
  },
  {
   "cell_type": "markdown",
   "metadata": {
    "pycharm": {
     "name": "#%% md\n"
    }
   },
   "source": [
    "The data was downloaded from [Kaggle](https://www.kaggle.com/nathanlauga/nba-games?select=games_details.csv)"
   ]
  },
  {
   "cell_type": "code",
   "execution_count": null,
   "metadata": {
    "ExecuteTime": {
     "end_time": "2020-06-13T20:51:58.742709Z",
     "start_time": "2020-06-13T20:51:58.618429Z"
    }
   },
   "outputs": [],
   "source": [
    "player_stats = pd.read_csv(\"~/Downloads/Seasons_Stats.csv\")"
   ]
  },
  {
   "cell_type": "markdown",
   "metadata": {
    "pycharm": {
     "name": "#%% md\n"
    }
   },
   "source": [
    "Since we are only interested in 3-point data for this analysis, we select only those columns from the dataframe."
   ]
  },
  {
   "cell_type": "code",
   "execution_count": null,
   "metadata": {
    "ExecuteTime": {
     "end_time": "2020-06-13T20:45:31.372267Z",
     "start_time": "2020-06-13T20:45:31.363840Z"
    }
   },
   "outputs": [],
   "source": [
    "three_point_data = player_stats[[\"Player\", \"Year\", \"3P%\", \"3PA\"]]\n",
    "print(three_point_data.head().to_string())"
   ]
  },
  {
   "cell_type": "markdown",
   "metadata": {
    "pycharm": {
     "name": "#%% md\n"
    }
   },
   "source": [
    "We then filter out players where 3-point data is not available (i.e. **3P%** column is set to `NaN`). This is possibly because there was no 3-point line at the time or simply because the player did not attempt any 3-pointers."
   ]
  },
  {
   "cell_type": "code",
   "execution_count": null,
   "metadata": {
    "ExecuteTime": {
     "end_time": "2020-06-13T20:45:31.993426Z",
     "start_time": "2020-06-13T20:45:31.971776Z"
    }
   },
   "outputs": [],
   "source": [
    "# Filter out players that don't have any 3PT data available (no 3PT line or did not attempt 3-pointers)\n",
    "three_point_data = three_point_data.dropna(subset=[\"3P%\"]).sort_values(\n",
    "    [\"Player\", \"Year\", \"3P%\"]\n",
    ")\n",
    "\n",
    "print(three_point_data.head().to_string())"
   ]
  },
  {
   "cell_type": "markdown",
   "metadata": {
    "pycharm": {
     "name": "#%% md\n"
    }
   },
   "source": [
    "We then group the 3-point data by player by season since we want to understand how a given player's 3-point percentage changed from one season to the next."
   ]
  },
  {
   "cell_type": "code",
   "execution_count": null,
   "metadata": {
    "ExecuteTime": {
     "end_time": "2020-06-13T20:45:32.801043Z",
     "start_time": "2020-06-13T20:45:32.781915Z"
    }
   },
   "outputs": [],
   "source": [
    "three_point_data = (\n",
    "    three_point_data.groupby([\"Player\", \"Year\"])\n",
    "    .agg({\"3PA\": \"sum\", \"3P%\": \"mean\"})\n",
    "    .rename(columns={\"3PA\": \"total_atp_3\", \"3P%\": \"avg_3_pct\"})\n",
    ")\n",
    "\n",
    "print(three_point_data.head().to_string())"
   ]
  },
  {
   "cell_type": "markdown",
   "metadata": {
    "pycharm": {
     "name": "#%% md\n"
    }
   },
   "source": [
    "We set a minimum criteria of 3-pointers attempted to make sure all possible outliers are excluded."
   ]
  },
  {
   "cell_type": "code",
   "execution_count": null,
   "metadata": {
    "ExecuteTime": {
     "end_time": "2020-06-13T20:45:33.422384Z",
     "start_time": "2020-06-13T20:45:33.411800Z"
    }
   },
   "outputs": [],
   "source": [
    "filtered_three_point_data = three_point_data[three_point_data[\"total_atp_3\"] > 200]\n",
    "\n",
    "print(filtered_three_point_data.head().to_string())"
   ]
  },
  {
   "cell_type": "markdown",
   "metadata": {
    "pycharm": {
     "name": "#%% md\n"
    }
   },
   "source": [
    "We then comparer each player's current 3-point percentage to the same percentage in the previous year.\n",
    "NOTE: This can likely be improved upon from an efficiency and readability standpoint."
   ]
  },
  {
   "cell_type": "code",
   "execution_count": null,
   "metadata": {
    "ExecuteTime": {
     "end_time": "2020-06-13T20:45:34.440314Z",
     "start_time": "2020-06-13T20:45:34.423882Z"
    }
   },
   "outputs": [],
   "source": [
    "filtered_three_point_data[\"diff\"] = ((filtered_three_point_data[\"avg_3_pct\"]\n",
    "    - filtered_three_point_data[\"avg_3_pct\"].shift(1)) * 100)\n",
    "\n",
    "filtered_three_point_data[\"diff\"] = filtered_three_point_data[\"diff\"].round(4)\n",
    "\n",
    "filtered_three_point_data = filtered_three_point_data.reset_index()\n",
    "\n",
    "print(filtered_three_point_data.head().to_string())"
   ]
  },
  {
   "cell_type": "markdown",
   "metadata": {
    "pycharm": {
     "name": "#%% md\n"
    }
   },
   "source": [
    "Since the data is sorted by player and year, there are instances where we are comparing 3-point percentages for 2 different players - in those cases, I set the **diff** column value to `None`."
   ]
  },
  {
   "cell_type": "code",
   "execution_count": null,
   "metadata": {
    "ExecuteTime": {
     "end_time": "2020-06-13T20:45:35.607348Z",
     "start_time": "2020-06-13T20:45:35.594961Z"
    }
   },
   "outputs": [],
   "source": [
    "mask = filtered_three_point_data[\"Player\"] != filtered_three_point_data[\n",
    "    \"Player\"\n",
    "].shift(1)\n",
    "\n",
    "filtered_three_point_data[\"diff\"][mask] = np.nan\n",
    "\n",
    "print(filtered_three_point_data.head().to_string())"
   ]
  },
  {
   "cell_type": "markdown",
   "metadata": {},
   "source": [
    "Finally some results! First, I was curious to know who had the biggest drop from the 3-point line from one year to the next. Interestingly, Toni Kukoc had a big drop from 1999 to 2000 but one of the biggest jumps in history from 2000 to 2001."
   ]
  },
  {
   "cell_type": "code",
   "execution_count": null,
   "metadata": {
    "pycharm": {
     "name": "#%%\n"
    }
   },
   "outputs": [],
   "source": [
    "min_player_change = (\n",
    "    filtered_three_point_data.groupby([\"Player\", \"Year\", \"total_atp_3\", \"avg_3_pct\"])\n",
    "    .min()\n",
    "    .reset_index()\n",
    "    .sort_values(by=\"diff\", ascending=True)\n",
    ")\n",
    "\n",
    "print(min_player_change.head().to_string())"
   ]
  },
  {
   "cell_type": "markdown",
   "metadata": {},
   "source": [
    "Here are the top 5 players with a the largest one season increase from the 3-point line."
   ]
  },
  {
   "cell_type": "code",
   "execution_count": null,
   "metadata": {
    "pycharm": {
     "name": "#%%\n"
    }
   },
   "outputs": [],
   "source": [
    "max_player_change = filtered_three_point_data.groupby(['Player', 'Year', 'total_atp_3', 'avg_3_pct']) \\\n",
    "                                    .max() \\\n",
    "                                    .reset_index() \\\n",
    "                                    .sort_values(by='diff', ascending=False)\n",
    "\n",
    "max_player_change = max_player_change[(max_player_change['avg_3_pct'] >= 0.35) & (max_player_change['diff'])] \\\n",
    "                                    .reset_index()\n",
    "\n",
    "print(max_player_change.head().to_string())"
   ]
  },
  {
   "cell_type": "markdown",
   "metadata": {},
   "source": [
    "max_player_change = filtered_three_point_data.groupby(['Player', 'Year', 'total_atp_3', 'avg_3_pct']) \\\n",
    "                                    .max() \\\n",
    "                                    .reset_index() \\\n",
    "                                    .sort_values(by='diff', ascending=False)\n",
    "\n",
    "max_player_change = max_player_change[(max_player_change['avg_3_pct'] >= 0.35) & (max_player_change['diff'])] \\\n",
    "                                    .reset_index()\n",
    "\n",
    "print(max_player_change.head().to_string())"
   ]
  },
  {
   "cell_type": "code",
   "execution_count": null,
   "metadata": {
    "ExecuteTime": {
     "end_time": "2020-06-13T20:46:51.686241Z",
     "start_time": "2020-06-13T20:46:51.667971Z"
    },
    "pycharm": {
     "name": "#%%\n"
    }
   },
   "outputs": [],
   "source": [
    "min_player_change = (\n",
    "    filtered_three_point_data.groupby([\"Player\", \"Year\", \"total_atp_3\", \"avg_3_pct\"])\n",
    "    .min()\n",
    "    .reset_index()\n",
    "    .sort_values(by=\"diff\", ascending=True)\n",
    ")\n",
    "\n",
    "print(min_player_change.head().to_string())"
   ]
  },
  {
   "cell_type": "markdown",
   "metadata": {},
   "source": [
    "Here are the top 5 players with a the largest one season increase from the 3-point line."
   ]
  },
  {
   "cell_type": "code",
   "execution_count": null,
   "metadata": {
    "ExecuteTime": {
     "end_time": "2020-06-13T20:47:35.497881Z",
     "start_time": "2020-06-13T20:47:35.477224Z"
    },
    "pycharm": {
     "name": "#%%\n"
    }
   },
   "outputs": [],
   "source": [
    "max_player_change = filtered_three_point_data.groupby(['Player', 'Year', 'total_atp_3', 'avg_3_pct']) \\\n",
    "                                    .max() \\\n",
    "                                    .reset_index() \\\n",
    "                                    .sort_values(by='diff', ascending=False)\n",
    "\n",
    "max_player_change = max_player_change[(max_player_change['avg_3_pct'] >= 0.35) & (max_player_change['diff'])] \\\n",
    "                                    .reset_index()\n",
    "\n",
    "print(max_player_change.head().to_string())"
   ]
  }
 ],
 "metadata": {
  "kernelspec": {
   "display_name": "Python 3",
   "language": "python",
   "name": "python3"
  },
  "language_info": {
   "codemirror_mode": {
    "name": "ipython",
    "version": 3
   },
   "file_extension": ".py",
   "mimetype": "text/x-python",
   "name": "python",
   "nbconvert_exporter": "python",
   "pygments_lexer": "ipython3",
   "version": "3.7.1"
  },
  "pycharm": {
   "stem_cell": {
    "cell_type": "raw",
    "metadata": {
     "collapsed": false
    },
    "source": []
   }
  },
  "toc": {
   "base_numbering": 1,
   "nav_menu": {},
   "number_sections": true,
   "sideBar": true,
   "skip_h1_title": false,
   "title_cell": "Table of Contents",
   "title_sidebar": "Contents",
   "toc_cell": false,
   "toc_position": {},
   "toc_section_display": true,
   "toc_window_display": true
  }
 },
 "nbformat": 4,
 "nbformat_minor": 2
}
